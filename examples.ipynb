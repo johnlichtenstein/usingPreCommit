{
 "cells": [
  {
   "cell_type": "markdown",
   "id": "6b7fe1c8-040a-4002-820c-05aea668067c",
   "metadata": {},
   "source": [
    "<a id=\"top\"></a>\n",
    "## Using pre-commit to simplify use of formatters\n",
    "jcl 2024-01-21\n",
    "\n",
    "### Examples\n",
    "- [python](#python)\n",
    "- [R](#R)\n",
    "- [sql](#sql)\n",
    "\n",
    "### Using [pre-commit](#pre-commit) to make automatic"
   ]
  },
  {
   "cell_type": "code",
   "execution_count": 5,
   "id": "d68f60e7-0928-41cb-83a2-d99139eb712b",
   "metadata": {
    "tags": []
   },
   "outputs": [],
   "source": [
    "import sys\n",
    "from pygments import highlight\n",
    "from pygments.lexers import SqlLexer\n",
    "from pygments.lexers import PythonLexer\n",
    "from pygments.lexers import SLexer\n",
    "from pygments.formatters import HtmlFormatter\n",
    "from IPython.display import HTML, display"
   ]
  },
  {
   "cell_type": "markdown",
   "id": "5a22b6cc-1da9-4b78-b31a-987f675e6899",
   "metadata": {},
   "source": [
    "<a id=\"python\"></a>\n",
    "### Python \n",
    "We can enforce [PEP8](https://peps.python.org/pep-0008/) with [Black](https://pypi.org/project/black/)<p>\n",
    "[top](#top)"
   ]
  },
  {
   "cell_type": "code",
   "execution_count": 8,
   "id": "b128ed8d-6b03-4d6d-9f4d-e9b03919682e",
   "metadata": {},
   "outputs": [
    {
     "data": {
      "text/html": [
       "<div class=\"highlight\"><pre><span></span><span class=\"k\">if</span> <span class=\"vm\">__name__</span> <span class=\"o\">==</span> <span class=\"s2\">&quot;__main__&quot;</span><span class=\"p\">:</span>\n",
       "  <span class=\"n\">msgL</span> <span class=\"o\">=</span> <span class=\"p\">[</span><span class=\"s2\">&quot;This message is fine but it&#39;s against the PEP8 80 character&quot;</span><span class=\"p\">,</span> <span class=\"s2\">&quot;limit to put it all on one line.&quot;</span><span class=\"p\">]</span>\n",
       "  <span class=\"nb\">print</span><span class=\"p\">(</span><span class=\"s2\">&quot;</span><span class=\"se\">\\n</span><span class=\"s2\">&quot;</span><span class=\"o\">.</span><span class=\"n\">join</span><span class=\"p\">(</span><span class=\"n\">msgL</span><span class=\"p\">))</span>\n",
       "</pre></div>\n"
      ],
      "text/plain": [
       "<IPython.core.display.HTML object>"
      ]
     },
     "metadata": {},
     "output_type": "display_data"
    }
   ],
   "source": [
    "sn = \"ugly.py\"\n",
    "script = open(sn).read()\n",
    "display(HTML(data=highlight(script, PythonLexer(), HtmlFormatter())))"
   ]
  },
  {
   "cell_type": "code",
   "execution_count": 10,
   "id": "3350f4ce-532b-4e59-9e61-8832c5c65e88",
   "metadata": {
    "tags": []
   },
   "outputs": [
    {
     "name": "stdout",
     "output_type": "stream",
     "text": [
      "\u001b[1mreformatted ugly.py\u001b[0m\n",
      "\n",
      "\u001b[1mAll done! ✨ 🍰 ✨\u001b[0m\n",
      "\u001b[34m\u001b[1m1 file \u001b[0m\u001b[1mreformatted\u001b[0m.\n"
     ]
    }
   ],
   "source": [
    "!black ugly.py"
   ]
  },
  {
   "cell_type": "code",
   "execution_count": 12,
   "id": "33fd6ce1-7072-4139-8fe6-f204d2116ed6",
   "metadata": {},
   "outputs": [
    {
     "data": {
      "text/html": [
       "<div class=\"highlight\"><pre><span></span><span class=\"k\">if</span> <span class=\"vm\">__name__</span> <span class=\"o\">==</span> <span class=\"s2\">&quot;__main__&quot;</span><span class=\"p\">:</span>\n",
       "    <span class=\"n\">msgL</span> <span class=\"o\">=</span> <span class=\"p\">[</span>\n",
       "        <span class=\"s2\">&quot;This message is fine but it&#39;s against the PEP8 80 character&quot;</span><span class=\"p\">,</span>\n",
       "        <span class=\"s2\">&quot;limit to put it all on one line.&quot;</span><span class=\"p\">,</span>\n",
       "    <span class=\"p\">]</span>\n",
       "    <span class=\"nb\">print</span><span class=\"p\">(</span><span class=\"s2\">&quot;</span><span class=\"se\">\\n</span><span class=\"s2\">&quot;</span><span class=\"o\">.</span><span class=\"n\">join</span><span class=\"p\">(</span><span class=\"n\">msgL</span><span class=\"p\">))</span>\n",
       "</pre></div>\n"
      ],
      "text/plain": [
       "<IPython.core.display.HTML object>"
      ]
     },
     "metadata": {},
     "output_type": "display_data"
    }
   ],
   "source": [
    "sn = \"ugly.py\"\n",
    "script = open(sn).read()\n",
    "display(HTML(data=highlight(script, PythonLexer(), HtmlFormatter())))"
   ]
  },
  {
   "cell_type": "markdown",
   "id": "1b8c4760-ac9c-4985-a1e5-102e1c05baa1",
   "metadata": {},
   "source": [
    "<a name=\"R\"></a>\n",
    "### R\n",
    "We can create some consistency with [styler](https://www.tidyverse.org/blog/2017/12/styler-1.0.0/) <p>\n",
    "[top](#top)"
   ]
  },
  {
   "cell_type": "code",
   "execution_count": 16,
   "id": "02919739-1fd3-4694-b918-f17a85c1dada",
   "metadata": {},
   "outputs": [
    {
     "data": {
      "text/html": [
       "<div class=\"highlight\"><pre><span></span><span class=\"n\">lights</span><span class=\"o\">|&gt;</span><span class=\"nb\">filter</span><span class=\"p\">(</span><span class=\"n\">carrier</span><span class=\"o\">==</span><span class=\"s2\">&quot;UA&quot;</span><span class=\"p\">,</span><span class=\"n\">dest</span><span class=\"o\">%</span><span class=\"ow\">in</span><span class=\"o\">%</span><span class=\"n\">c</span><span class=\"p\">(</span><span class=\"s2\">&quot;IAH&quot;</span><span class=\"p\">,</span><span class=\"s2\">&quot;HOU&quot;</span><span class=\"p\">),</span><span class=\"n\">sched_dep_time</span><span class=\"o\">&gt;</span>\n",
       "<span class=\"mi\">0900</span><span class=\"p\">,</span><span class=\"n\">sched_arr_time</span><span class=\"o\">&lt;</span><span class=\"mi\">2000</span><span class=\"p\">)</span><span class=\"o\">|&gt;</span><span class=\"n\">group_by</span><span class=\"p\">(</span><span class=\"n\">flight</span><span class=\"p\">)</span><span class=\"o\">|&gt;</span><span class=\"n\">summarize</span><span class=\"p\">(</span><span class=\"n\">delay</span><span class=\"o\">=</span><span class=\"n\">mean</span><span class=\"p\">(</span>\n",
       "<span class=\"n\">arr_delay</span><span class=\"p\">,</span><span class=\"n\">na</span><span class=\"o\">.</span><span class=\"n\">rm</span><span class=\"o\">=</span><span class=\"n\">TRUE</span><span class=\"p\">),</span><span class=\"n\">cancelled</span><span class=\"o\">=</span><span class=\"nb\">sum</span><span class=\"p\">(</span><span class=\"ow\">is</span><span class=\"o\">.</span><span class=\"n\">na</span><span class=\"p\">(</span><span class=\"n\">arr_delay</span><span class=\"p\">)),</span><span class=\"n\">n</span><span class=\"o\">=</span><span class=\"n\">n</span><span class=\"p\">())</span><span class=\"o\">|&gt;</span><span class=\"nb\">filter</span><span class=\"p\">(</span><span class=\"n\">n</span><span class=\"o\">&gt;</span><span class=\"mi\">10</span><span class=\"p\">)</span>\n",
       "</pre></div>\n"
      ],
      "text/plain": [
       "<IPython.core.display.HTML object>"
      ]
     },
     "metadata": {},
     "output_type": "display_data"
    }
   ],
   "source": [
    "sn = \"ugly.R\"\n",
    "script = open(sn).read()\n",
    "display(HTML(data=highlight(script, PythonLexer(), HtmlFormatter())))"
   ]
  },
  {
   "cell_type": "code",
   "execution_count": 20,
   "id": "05843a31-c58b-4cb0-9a97-27e86935b64d",
   "metadata": {
    "tags": []
   },
   "outputs": [
    {
     "name": "stdout",
     "output_type": "stream",
     "text": [
      "> styler::style_file(\"ugly.R\")\n",
      "Styling  1  files:\n",
      " ugly.R ℹ \n",
      "────────────────────────────────────────\n",
      "Status\tCount\tLegend \n",
      "✔ \t0\tFile unchanged.\n",
      "ℹ \t1\tFile changed.\n",
      "✖ \t0\tStyling threw an error.\n",
      "────────────────────────────────────────\n",
      "Please review the changes carefully!\n",
      "\u001b[?25h> \n",
      "> \n",
      "\u001b[?25h"
     ]
    }
   ],
   "source": [
    "!/usr/local/bin/R -q -e 'styler::style_file(\"ugly.R\")' "
   ]
  },
  {
   "cell_type": "code",
   "execution_count": 22,
   "id": "0d29e3e4-132c-4e43-9101-fbdd1d3cb4c1",
   "metadata": {},
   "outputs": [
    {
     "data": {
      "text/html": [
       "<div class=\"highlight\"><pre><span></span><span class=\"n\">lights</span> <span class=\"o\">|&gt;</span>\n",
       "  <span class=\"nb\">filter</span><span class=\"p\">(</span><span class=\"n\">carrier</span> <span class=\"o\">==</span> <span class=\"s2\">&quot;UA&quot;</span><span class=\"p\">,</span> <span class=\"n\">dest</span> <span class=\"o\">%</span><span class=\"ow\">in</span><span class=\"o\">%</span> <span class=\"n\">c</span><span class=\"p\">(</span><span class=\"s2\">&quot;IAH&quot;</span><span class=\"p\">,</span> <span class=\"s2\">&quot;HOU&quot;</span><span class=\"p\">),</span> <span class=\"n\">sched_dep_time</span> <span class=\"o\">&gt;</span>\n",
       "    <span class=\"mi\">0900</span><span class=\"p\">,</span> <span class=\"n\">sched_arr_time</span> <span class=\"o\">&lt;</span> <span class=\"mi\">2000</span><span class=\"p\">)</span> <span class=\"o\">|&gt;</span>\n",
       "  <span class=\"n\">group_by</span><span class=\"p\">(</span><span class=\"n\">flight</span><span class=\"p\">)</span> <span class=\"o\">|&gt;</span>\n",
       "  <span class=\"n\">summarize</span><span class=\"p\">(</span><span class=\"n\">delay</span> <span class=\"o\">=</span> <span class=\"n\">mean</span><span class=\"p\">(</span>\n",
       "    <span class=\"n\">arr_delay</span><span class=\"p\">,</span>\n",
       "    <span class=\"n\">na</span><span class=\"o\">.</span><span class=\"n\">rm</span> <span class=\"o\">=</span> <span class=\"n\">TRUE</span>\n",
       "  <span class=\"p\">),</span> <span class=\"n\">cancelled</span> <span class=\"o\">=</span> <span class=\"nb\">sum</span><span class=\"p\">(</span><span class=\"ow\">is</span><span class=\"o\">.</span><span class=\"n\">na</span><span class=\"p\">(</span><span class=\"n\">arr_delay</span><span class=\"p\">)),</span> <span class=\"n\">n</span> <span class=\"o\">=</span> <span class=\"n\">n</span><span class=\"p\">())</span> <span class=\"o\">|&gt;</span>\n",
       "  <span class=\"nb\">filter</span><span class=\"p\">(</span><span class=\"n\">n</span> <span class=\"o\">&gt;</span> <span class=\"mi\">10</span><span class=\"p\">)</span>\n",
       "</pre></div>\n"
      ],
      "text/plain": [
       "<IPython.core.display.HTML object>"
      ]
     },
     "metadata": {},
     "output_type": "display_data"
    }
   ],
   "source": [
    "sn = \"ugly.R\"\n",
    "script = open(sn).read()\n",
    "display(HTML(data=highlight(script, PythonLexer(), HtmlFormatter())))"
   ]
  },
  {
   "cell_type": "markdown",
   "id": "213772e0-269c-4c43-8b4f-31e3756b5020",
   "metadata": {},
   "source": [
    "<a name=\"sql\"></a>\n",
    "### SQL \n",
    "We can get conststently styled SQL with [sqlfluff](#https://docs.sqlfluff.com/en/stable/vision.html)<p>\n",
    "[top](#top)"
   ]
  },
  {
   "cell_type": "code",
   "execution_count": 78,
   "id": "6b4bee89-6c2f-47a0-8e89-ea5d74da0542",
   "metadata": {},
   "outputs": [
    {
     "data": {
      "text/html": [
       "<div class=\"highlight\"><pre><span></span><span class=\"n\">select</span>\n",
       "    <span class=\"n\">mat</span><span class=\"o\">.</span><span class=\"n\">badname</span> <span class=\"k\">as</span> <span class=\"n\">goodname</span>\n",
       "    <span class=\"p\">,</span> <span class=\"n\">morestuff</span>\n",
       "<span class=\"kn\">from</span> <span class=\"nn\">mytable</span> <span class=\"n\">mat</span>\n",
       "<span class=\"n\">inner</span> <span class=\"n\">join</span> <span class=\"n\">othertable</span> <span class=\"n\">oth</span>\n",
       "    <span class=\"n\">on</span> <span class=\"n\">mat</span><span class=\"o\">.</span><span class=\"n\">key</span> <span class=\"o\">=</span> <span class=\"n\">oth</span><span class=\"o\">.</span><span class=\"n\">key</span>\n",
       "</pre></div>\n"
      ],
      "text/plain": [
       "<IPython.core.display.HTML object>"
      ]
     },
     "metadata": {},
     "output_type": "display_data"
    }
   ],
   "source": [
    "sn = \"ugly.sql\"\n",
    "script = open(sn).read()\n",
    "display(HTML(data=highlight(script, PythonLexer(), HtmlFormatter())))"
   ]
  },
  {
   "cell_type": "code",
   "execution_count": 80,
   "id": "77a3b4b0-3de9-46a3-8ad9-63e55542d019",
   "metadata": {
    "tags": []
   },
   "outputs": [
    {
     "name": "stdout",
     "output_type": "stream",
     "text": [
      "==== finding fixable violations ====\n",
      "\u001b[31mFORCE MODE\u001b[0m: Attempting fixes...\n",
      "==== no fixable linting violations found ====                                   \n",
      "All Finished 📜 🎉!\n",
      "  [1 unfixable linting violations found]\n",
      "\u001b[0m"
     ]
    }
   ],
   "source": [
    "!sqlfluff fix ugly.sql --force"
   ]
  },
  {
   "cell_type": "code",
   "execution_count": 82,
   "id": "e620c342-7933-43f8-8ee8-363bbe1dd0df",
   "metadata": {},
   "outputs": [
    {
     "data": {
      "text/html": [
       "<div class=\"highlight\"><pre><span></span><span class=\"n\">select</span>\n",
       "    <span class=\"n\">mat</span><span class=\"o\">.</span><span class=\"n\">badname</span> <span class=\"k\">as</span> <span class=\"n\">goodname</span>\n",
       "    <span class=\"p\">,</span> <span class=\"n\">morestuff</span>\n",
       "<span class=\"kn\">from</span> <span class=\"nn\">mytable</span> <span class=\"n\">mat</span>\n",
       "<span class=\"n\">inner</span> <span class=\"n\">join</span> <span class=\"n\">othertable</span> <span class=\"n\">oth</span>\n",
       "    <span class=\"n\">on</span> <span class=\"n\">mat</span><span class=\"o\">.</span><span class=\"n\">key</span> <span class=\"o\">=</span> <span class=\"n\">oth</span><span class=\"o\">.</span><span class=\"n\">key</span>\n",
       "</pre></div>\n"
      ],
      "text/plain": [
       "<IPython.core.display.HTML object>"
      ]
     },
     "metadata": {},
     "output_type": "display_data"
    }
   ],
   "source": [
    "sn = \"ugly.sql\"\n",
    "script = open(sn).read()\n",
    "display(HTML(data=highlight(script, PythonLexer(), HtmlFormatter())))"
   ]
  },
  {
   "cell_type": "markdown",
   "id": "7a07bb25-ac90-4171-8343-3972f4ce8461",
   "metadata": {},
   "source": [
    "#### Changes\n",
    "- an as was added for renaming badname\n",
    "- comma moved to beginning of line 3\n",
    "- join changed to explicit inner join\n",
    "- order switched in the on to reflect the order tables are referenced\n",
    "- the linter still has a complaint it can't fix\n",
    "    - it has no way to guess which table to look to for morestuff"
   ]
  },
  {
   "cell_type": "code",
   "execution_count": 42,
   "id": "67e08c51-e0fd-484f-856b-70d999ce76ae",
   "metadata": {
    "tags": []
   },
   "outputs": [
    {
     "name": "stdout",
     "output_type": "stream",
     "text": [
      "== [\u001b[30m\u001b[1mugly.sql\u001b[0m] \u001b[31mFAIL\u001b[0m                                        \n",
      "\u001b[34mL:   3 | P:   7 | RF02 | \u001b[0mUnqualified reference 'morestuff' found in select with\n",
      "                       \u001b[34m| \u001b[0mmore than one referenced table/view.\n",
      "                       \u001b[34m| \u001b[0m[\u001b[30m\u001b[1mreferences.qualification\u001b[0m]\n",
      "All Finished 📜 🎉!\n",
      "\u001b[0m"
     ]
    }
   ],
   "source": [
    "!sqlfluff lint ugly.sql "
   ]
  },
  {
   "cell_type": "markdown",
   "id": "570efd51-f877-4b84-b3ce-7078b768f644",
   "metadata": {},
   "source": [
    "<a name=\"pre-commit\"></a>\n",
    "### [pre-commit](#https://pre-commit.com) can apply rules as files are checked in\n",
    "\n",
    "#### Install with conda or pip\n",
    "-- conda install -c conda-forge pre-commit\n",
    "\n",
    "#### Copy a pyproject.toml into project directory\n",
    "If changes are needed to alter which rules to apply, the following can be helpful.\n",
    "- [pre-commit rules reference](#https://docs.sqlfluff.com/en/stable/rules.html)\n",
    "- [yaml to toml converter](#https://transform.tools/yaml-to-toml)\n",
    "    - because a lot of examples will be for yaml<p>\n",
    "\n",
    "[top](#top)"
   ]
  },
  {
   "cell_type": "code",
   "execution_count": null,
   "id": "10921a4b-171d-4f3f-b0d4-5805225e6bad",
   "metadata": {},
   "outputs": [],
   "source": []
  }
 ],
 "metadata": {
  "kernelspec": {
   "display_name": "Python 3 (ipykernel)",
   "language": "python",
   "name": "python3"
  },
  "language_info": {
   "codemirror_mode": {
    "name": "ipython",
    "version": 3
   },
   "file_extension": ".py",
   "mimetype": "text/x-python",
   "name": "python",
   "nbconvert_exporter": "python",
   "pygments_lexer": "ipython3",
   "version": "3.11.5"
  }
 },
 "nbformat": 4,
 "nbformat_minor": 5
}
